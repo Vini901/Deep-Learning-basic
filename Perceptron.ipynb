{
  "nbformat": 4,
  "nbformat_minor": 0,
  "metadata": {
    "colab": {
      "name": "Perceptron.ipynb",
      "provenance": [],
      "collapsed_sections": [],
      "mount_file_id": "1DwikEntgcbrOW46pCbmVusxHhIWrPwBk",
      "authorship_tag": "ABX9TyMqTnyC1F7ZgH8vqPndcr6w",
      "include_colab_link": true
    },
    "kernelspec": {
      "name": "python3",
      "display_name": "Python 3"
    },
    "language_info": {
      "name": "python"
    }
  },
  "cells": [
    {
      "cell_type": "markdown",
      "metadata": {
        "id": "view-in-github",
        "colab_type": "text"
      },
      "source": [
        "<a href=\"https://colab.research.google.com/github/Vini901/Deep-Learning-basic/blob/Supervised-Machine-Learning/Perceptron.ipynb\" target=\"_parent\"><img src=\"https://colab.research.google.com/assets/colab-badge.svg\" alt=\"Open In Colab\"/></a>"
      ]
    },
    {
      "cell_type": "code",
      "metadata": {
        "id": "-BLBS7nH6n22"
      },
      "source": [
        "path='/content/drive/MyDrive/Deep Learning/Perceptron'"
      ],
      "execution_count": 1,
      "outputs": []
    },
    {
      "cell_type": "code",
      "metadata": {
        "id": "gIwWGVwe8Ms5"
      },
      "source": [
        "import os\n",
        "os.chdir(path)"
      ],
      "execution_count": 2,
      "outputs": []
    },
    {
      "cell_type": "code",
      "metadata": {
        "colab": {
          "base_uri": "https://localhost:8080/",
          "height": 35
        },
        "id": "Rj8ddoy08PQb",
        "outputId": "9f8b5b67-2e48-4fe0-b97d-7fd61b157a0e"
      },
      "source": [
        "os.getcwd()"
      ],
      "execution_count": 3,
      "outputs": [
        {
          "output_type": "execute_result",
          "data": {
            "application/vnd.google.colaboratory.intrinsic+json": {
              "type": "string"
            },
            "text/plain": [
              "'/content/drive/MyDrive/Deep Learning/Perceptron'"
            ]
          },
          "metadata": {
            "tags": []
          },
          "execution_count": 3
        }
      ]
    },
    {
      "cell_type": "markdown",
      "metadata": {
        "id": "ZrgeS2wvcgrz"
      },
      "source": [
        "#Implementaion of simple perceptron from scratch\n"
      ]
    },
    {
      "cell_type": "code",
      "metadata": {
        "id": "d0qD7Arg8XTK"
      },
      "source": [
        "import numpy as np\n",
        "import pandas as pd\n",
        "import matplotlib.pyplot as plt\n",
        "import joblib\n",
        "\n",
        "plt.style.use('fivethirtyeight')"
      ],
      "execution_count": 4,
      "outputs": []
    },
    {
      "cell_type": "code",
      "metadata": {
        "id": "UgvVPgy78630"
      },
      "source": [
        "class Perceptron:\n",
        "  def __init__(self,eta,epochs,activationfunction):\n",
        "    self.weight=np.random.randn(3)*1e-3\n",
        "    self.epochs=epochs\n",
        "    self.activationfunction=activationfunction\n",
        "    self.eta=eta\n",
        "  def fit(self,X,y):\n",
        "    self.X=X\n",
        "    self.y=y\n",
        "    input_with_bias=np.c_[self.X,-np.ones((len(self.X),1))]\n",
        "    print(input_with_bias)\n",
        "    for epoch in range(self.epochs):\n",
        "      y_hat=self.activationfunction(input_with_bias,self.weight)\n",
        "      error=self.y-y_hat\n",
        "      print(y_hat)\n",
        "      self.weight=self.weight+self.eta*np.dot(input_with_bias.T,error)\n",
        "      print(f\"updated weight \\n{self.weight}\")\n",
        "      print('--'*5)\n",
        "  def predict(self,X,y):\n",
        "    input_with_bias=np.c_[X,-np.ones((len(X),1))]\n",
        "    return activationfunction(input_with_bias,self.weight)\n"
      ],
      "execution_count": 86,
      "outputs": []
    },
    {
      "cell_type": "code",
      "metadata": {
        "id": "0qcDsEn1HWSz"
      },
      "source": [
        "activationfunction=lambda X,W : np.where(np.dot(X,W)>0,1,0)"
      ],
      "execution_count": 87,
      "outputs": []
    },
    {
      "cell_type": "markdown",
      "metadata": {
        "id": "0gX22_Qif72j"
      },
      "source": [
        "#AND gate\n"
      ]
    },
    {
      "cell_type": "code",
      "metadata": {
        "colab": {
          "base_uri": "https://localhost:8080/",
          "height": 173
        },
        "id": "-uVCFYNqKkeF",
        "outputId": "435c76b4-d5e5-4de7-fe7f-b68ae8185755"
      },
      "source": [
        "data = {\"x1\": [0,0,1,1], \"x2\": [0,1,0,1], \"y\": [0,0,0,1]}\n",
        "\n",
        "AND = pd.DataFrame(data)\n",
        "AND"
      ],
      "execution_count": 88,
      "outputs": [
        {
          "output_type": "execute_result",
          "data": {
            "text/html": [
              "<div>\n",
              "<style scoped>\n",
              "    .dataframe tbody tr th:only-of-type {\n",
              "        vertical-align: middle;\n",
              "    }\n",
              "\n",
              "    .dataframe tbody tr th {\n",
              "        vertical-align: top;\n",
              "    }\n",
              "\n",
              "    .dataframe thead th {\n",
              "        text-align: right;\n",
              "    }\n",
              "</style>\n",
              "<table border=\"1\" class=\"dataframe\">\n",
              "  <thead>\n",
              "    <tr style=\"text-align: right;\">\n",
              "      <th></th>\n",
              "      <th>x1</th>\n",
              "      <th>x2</th>\n",
              "      <th>y</th>\n",
              "    </tr>\n",
              "  </thead>\n",
              "  <tbody>\n",
              "    <tr>\n",
              "      <th>0</th>\n",
              "      <td>0</td>\n",
              "      <td>0</td>\n",
              "      <td>0</td>\n",
              "    </tr>\n",
              "    <tr>\n",
              "      <th>1</th>\n",
              "      <td>0</td>\n",
              "      <td>1</td>\n",
              "      <td>0</td>\n",
              "    </tr>\n",
              "    <tr>\n",
              "      <th>2</th>\n",
              "      <td>1</td>\n",
              "      <td>0</td>\n",
              "      <td>0</td>\n",
              "    </tr>\n",
              "    <tr>\n",
              "      <th>3</th>\n",
              "      <td>1</td>\n",
              "      <td>1</td>\n",
              "      <td>1</td>\n",
              "    </tr>\n",
              "  </tbody>\n",
              "</table>\n",
              "</div>"
            ],
            "text/plain": [
              "   x1  x2  y\n",
              "0   0   0  0\n",
              "1   0   1  0\n",
              "2   1   0  0\n",
              "3   1   1  1"
            ]
          },
          "metadata": {
            "tags": []
          },
          "execution_count": 88
        }
      ]
    },
    {
      "cell_type": "code",
      "metadata": {
        "colab": {
          "base_uri": "https://localhost:8080/",
          "height": 173
        },
        "id": "yxH79uTTVU3T",
        "outputId": "f6e278ca-aa9f-4f7c-cb0e-75ada14ad331"
      },
      "source": [
        "X=AND.drop('y',axis=1)\n",
        "X\n"
      ],
      "execution_count": 89,
      "outputs": [
        {
          "output_type": "execute_result",
          "data": {
            "text/html": [
              "<div>\n",
              "<style scoped>\n",
              "    .dataframe tbody tr th:only-of-type {\n",
              "        vertical-align: middle;\n",
              "    }\n",
              "\n",
              "    .dataframe tbody tr th {\n",
              "        vertical-align: top;\n",
              "    }\n",
              "\n",
              "    .dataframe thead th {\n",
              "        text-align: right;\n",
              "    }\n",
              "</style>\n",
              "<table border=\"1\" class=\"dataframe\">\n",
              "  <thead>\n",
              "    <tr style=\"text-align: right;\">\n",
              "      <th></th>\n",
              "      <th>x1</th>\n",
              "      <th>x2</th>\n",
              "    </tr>\n",
              "  </thead>\n",
              "  <tbody>\n",
              "    <tr>\n",
              "      <th>0</th>\n",
              "      <td>0</td>\n",
              "      <td>0</td>\n",
              "    </tr>\n",
              "    <tr>\n",
              "      <th>1</th>\n",
              "      <td>0</td>\n",
              "      <td>1</td>\n",
              "    </tr>\n",
              "    <tr>\n",
              "      <th>2</th>\n",
              "      <td>1</td>\n",
              "      <td>0</td>\n",
              "    </tr>\n",
              "    <tr>\n",
              "      <th>3</th>\n",
              "      <td>1</td>\n",
              "      <td>1</td>\n",
              "    </tr>\n",
              "  </tbody>\n",
              "</table>\n",
              "</div>"
            ],
            "text/plain": [
              "   x1  x2\n",
              "0   0   0\n",
              "1   0   1\n",
              "2   1   0\n",
              "3   1   1"
            ]
          },
          "metadata": {
            "tags": []
          },
          "execution_count": 89
        }
      ]
    },
    {
      "cell_type": "code",
      "metadata": {
        "colab": {
          "base_uri": "https://localhost:8080/",
          "height": 173
        },
        "id": "qHND63VGVZhC",
        "outputId": "3856b3a0-a80d-4817-f420-736cb204ee34"
      },
      "source": [
        "y=AND['y']\n",
        "y.to_frame()"
      ],
      "execution_count": 90,
      "outputs": [
        {
          "output_type": "execute_result",
          "data": {
            "text/html": [
              "<div>\n",
              "<style scoped>\n",
              "    .dataframe tbody tr th:only-of-type {\n",
              "        vertical-align: middle;\n",
              "    }\n",
              "\n",
              "    .dataframe tbody tr th {\n",
              "        vertical-align: top;\n",
              "    }\n",
              "\n",
              "    .dataframe thead th {\n",
              "        text-align: right;\n",
              "    }\n",
              "</style>\n",
              "<table border=\"1\" class=\"dataframe\">\n",
              "  <thead>\n",
              "    <tr style=\"text-align: right;\">\n",
              "      <th></th>\n",
              "      <th>y</th>\n",
              "    </tr>\n",
              "  </thead>\n",
              "  <tbody>\n",
              "    <tr>\n",
              "      <th>0</th>\n",
              "      <td>0</td>\n",
              "    </tr>\n",
              "    <tr>\n",
              "      <th>1</th>\n",
              "      <td>0</td>\n",
              "    </tr>\n",
              "    <tr>\n",
              "      <th>2</th>\n",
              "      <td>0</td>\n",
              "    </tr>\n",
              "    <tr>\n",
              "      <th>3</th>\n",
              "      <td>1</td>\n",
              "    </tr>\n",
              "  </tbody>\n",
              "</table>\n",
              "</div>"
            ],
            "text/plain": [
              "   y\n",
              "0  0\n",
              "1  0\n",
              "2  0\n",
              "3  1"
            ]
          },
          "metadata": {
            "tags": []
          },
          "execution_count": 90
        }
      ]
    },
    {
      "cell_type": "code",
      "metadata": {
        "id": "Wd6by1UoVjh2"
      },
      "source": [
        "model=Perceptron(eta=0.1,epochs=10,activationfunction=activationfunction)"
      ],
      "execution_count": 91,
      "outputs": []
    },
    {
      "cell_type": "code",
      "metadata": {
        "colab": {
          "base_uri": "https://localhost:8080/"
        },
        "id": "Dyv8k55kVpRM",
        "outputId": "d7483433-bf80-44e7-e1f0-744121ae24c5"
      },
      "source": [
        "model.fit(X=X,y=y)"
      ],
      "execution_count": 92,
      "outputs": [
        {
          "output_type": "stream",
          "text": [
            "[[ 0.  0. -1.]\n",
            " [ 0.  1. -1.]\n",
            " [ 1.  0. -1.]\n",
            " [ 1.  1. -1.]]\n",
            "[0 0 0 0]\n",
            "updated weight \n",
            "[ 0.10031269  0.09891075 -0.09898739]\n",
            "----------\n",
            "[1 1 1 1]\n",
            "updated weight \n",
            "[ 0.00031269 -0.00108925  0.20101261]\n",
            "----------\n",
            "[0 0 0 0]\n",
            "updated weight \n",
            "[0.10031269 0.09891075 0.10101261]\n",
            "----------\n",
            "[0 0 0 1]\n",
            "updated weight \n",
            "[0.10031269 0.09891075 0.10101261]\n",
            "----------\n",
            "[0 0 0 1]\n",
            "updated weight \n",
            "[0.10031269 0.09891075 0.10101261]\n",
            "----------\n",
            "[0 0 0 1]\n",
            "updated weight \n",
            "[0.10031269 0.09891075 0.10101261]\n",
            "----------\n",
            "[0 0 0 1]\n",
            "updated weight \n",
            "[0.10031269 0.09891075 0.10101261]\n",
            "----------\n",
            "[0 0 0 1]\n",
            "updated weight \n",
            "[0.10031269 0.09891075 0.10101261]\n",
            "----------\n",
            "[0 0 0 1]\n",
            "updated weight \n",
            "[0.10031269 0.09891075 0.10101261]\n",
            "----------\n",
            "[0 0 0 1]\n",
            "updated weight \n",
            "[0.10031269 0.09891075 0.10101261]\n",
            "----------\n"
          ],
          "name": "stdout"
        }
      ]
    },
    {
      "cell_type": "code",
      "metadata": {
        "colab": {
          "base_uri": "https://localhost:8080/"
        },
        "id": "G4VTXjzuWYGq",
        "outputId": "7020a513-3b7f-4c55-f061-d2d380740d6e"
      },
      "source": [
        "model.predict(X,y)"
      ],
      "execution_count": 93,
      "outputs": [
        {
          "output_type": "execute_result",
          "data": {
            "text/plain": [
              "array([0, 0, 0, 1])"
            ]
          },
          "metadata": {
            "tags": []
          },
          "execution_count": 93
        }
      ]
    },
    {
      "cell_type": "code",
      "metadata": {
        "colab": {
          "base_uri": "https://localhost:8080/",
          "height": 326
        },
        "id": "ohVgs83bgFsc",
        "outputId": "171eae82-4141-487f-be75-2032a9016998"
      },
      "source": [
        "AND.plot(kind='scatter',x='x1',y='x2',c='y',s=50,cmap=\"winter\")\n",
        "plt.axhline(y=0,color='black',linestyle='--',linewidth=2)\n",
        "plt.axvline(x=0,color='black',linestyle='--',linewidth=2)\n",
        "x=np.linspace(0,1.75,100)\n",
        "y=1.5-np.linspace(0,1.75,100)\n",
        "plt.plot(x,y,'r--')"
      ],
      "execution_count": 138,
      "outputs": [
        {
          "output_type": "execute_result",
          "data": {
            "text/plain": [
              "[<matplotlib.lines.Line2D at 0x7f789f4e2250>]"
            ]
          },
          "metadata": {
            "tags": []
          },
          "execution_count": 138
        },
        {
          "output_type": "display_data",
          "data": {
            "image/png": "[encoded data removed]",
            "text/plain": [
              "<Figure size 432x288 with 2 Axes>"
            ]
          },
          "metadata": {
            "tags": []
          }
        }
      ]
    },
    {
      "cell_type": "markdown",
      "metadata": {
        "id": "B1_I6mN_caRL"
      },
      "source": [
        "#OR\n"
      ]
    },
    {
      "cell_type": "code",
      "metadata": {
        "colab": {
          "base_uri": "https://localhost:8080/",
          "height": 173
        },
        "id": "xOOshsfMaKLG",
        "outputId": "100b4e87-c04b-41ed-ff7d-caaabd2cfd0f"
      },
      "source": [
        "data = {\"x1\": [0,0,1,1], \"x2\": [0,1,0,1], \"y\": [0,1,1,1]}\n",
        "\n",
        "OR = pd.DataFrame(data)\n",
        "OR"
      ],
      "execution_count": 94,
      "outputs": [
        {
          "output_type": "execute_result",
          "data": {
            "text/html": [
              "<div>\n",
              "<style scoped>\n",
              "    .dataframe tbody tr th:only-of-type {\n",
              "        vertical-align: middle;\n",
              "    }\n",
              "\n",
              "    .dataframe tbody tr th {\n",
              "        vertical-align: top;\n",
              "    }\n",
              "\n",
              "    .dataframe thead th {\n",
              "        text-align: right;\n",
              "    }\n",
              "</style>\n",
              "<table border=\"1\" class=\"dataframe\">\n",
              "  <thead>\n",
              "    <tr style=\"text-align: right;\">\n",
              "      <th></th>\n",
              "      <th>x1</th>\n",
              "      <th>x2</th>\n",
              "      <th>y</th>\n",
              "    </tr>\n",
              "  </thead>\n",
              "  <tbody>\n",
              "    <tr>\n",
              "      <th>0</th>\n",
              "      <td>0</td>\n",
              "      <td>0</td>\n",
              "      <td>0</td>\n",
              "    </tr>\n",
              "    <tr>\n",
              "      <th>1</th>\n",
              "      <td>0</td>\n",
              "      <td>1</td>\n",
              "      <td>1</td>\n",
              "    </tr>\n",
              "    <tr>\n",
              "      <th>2</th>\n",
              "      <td>1</td>\n",
              "      <td>0</td>\n",
              "      <td>1</td>\n",
              "    </tr>\n",
              "    <tr>\n",
              "      <th>3</th>\n",
              "      <td>1</td>\n",
              "      <td>1</td>\n",
              "      <td>1</td>\n",
              "    </tr>\n",
              "  </tbody>\n",
              "</table>\n",
              "</div>"
            ],
            "text/plain": [
              "   x1  x2  y\n",
              "0   0   0  0\n",
              "1   0   1  1\n",
              "2   1   0  1\n",
              "3   1   1  1"
            ]
          },
          "metadata": {
            "tags": []
          },
          "execution_count": 94
        }
      ]
    },
    {
      "cell_type": "code",
      "metadata": {
        "colab": {
          "base_uri": "https://localhost:8080/",
          "height": 173
        },
        "id": "xYHECD4Pa92J",
        "outputId": "8518485b-306f-48bf-fce1-7808c5b41f2c"
      },
      "source": [
        "X=OR.drop('y',axis=1)\n",
        "X"
      ],
      "execution_count": 96,
      "outputs": [
        {
          "output_type": "execute_result",
          "data": {
            "text/html": [
              "<div>\n",
              "<style scoped>\n",
              "    .dataframe tbody tr th:only-of-type {\n",
              "        vertical-align: middle;\n",
              "    }\n",
              "\n",
              "    .dataframe tbody tr th {\n",
              "        vertical-align: top;\n",
              "    }\n",
              "\n",
              "    .dataframe thead th {\n",
              "        text-align: right;\n",
              "    }\n",
              "</style>\n",
              "<table border=\"1\" class=\"dataframe\">\n",
              "  <thead>\n",
              "    <tr style=\"text-align: right;\">\n",
              "      <th></th>\n",
              "      <th>x1</th>\n",
              "      <th>x2</th>\n",
              "    </tr>\n",
              "  </thead>\n",
              "  <tbody>\n",
              "    <tr>\n",
              "      <th>0</th>\n",
              "      <td>0</td>\n",
              "      <td>0</td>\n",
              "    </tr>\n",
              "    <tr>\n",
              "      <th>1</th>\n",
              "      <td>0</td>\n",
              "      <td>1</td>\n",
              "    </tr>\n",
              "    <tr>\n",
              "      <th>2</th>\n",
              "      <td>1</td>\n",
              "      <td>0</td>\n",
              "    </tr>\n",
              "    <tr>\n",
              "      <th>3</th>\n",
              "      <td>1</td>\n",
              "      <td>1</td>\n",
              "    </tr>\n",
              "  </tbody>\n",
              "</table>\n",
              "</div>"
            ],
            "text/plain": [
              "   x1  x2\n",
              "0   0   0\n",
              "1   0   1\n",
              "2   1   0\n",
              "3   1   1"
            ]
          },
          "metadata": {
            "tags": []
          },
          "execution_count": 96
        }
      ]
    },
    {
      "cell_type": "code",
      "metadata": {
        "colab": {
          "base_uri": "https://localhost:8080/",
          "height": 173
        },
        "id": "fz5FWnhPbp-1",
        "outputId": "b637b06b-2a35-420e-b097-d131105b5b44"
      },
      "source": [
        "y=OR['y']\n",
        "y.to_frame()"
      ],
      "execution_count": 98,
      "outputs": [
        {
          "output_type": "execute_result",
          "data": {
            "text/html": [
              "<div>\n",
              "<style scoped>\n",
              "    .dataframe tbody tr th:only-of-type {\n",
              "        vertical-align: middle;\n",
              "    }\n",
              "\n",
              "    .dataframe tbody tr th {\n",
              "        vertical-align: top;\n",
              "    }\n",
              "\n",
              "    .dataframe thead th {\n",
              "        text-align: right;\n",
              "    }\n",
              "</style>\n",
              "<table border=\"1\" class=\"dataframe\">\n",
              "  <thead>\n",
              "    <tr style=\"text-align: right;\">\n",
              "      <th></th>\n",
              "      <th>y</th>\n",
              "    </tr>\n",
              "  </thead>\n",
              "  <tbody>\n",
              "    <tr>\n",
              "      <th>0</th>\n",
              "      <td>0</td>\n",
              "    </tr>\n",
              "    <tr>\n",
              "      <th>1</th>\n",
              "      <td>1</td>\n",
              "    </tr>\n",
              "    <tr>\n",
              "      <th>2</th>\n",
              "      <td>1</td>\n",
              "    </tr>\n",
              "    <tr>\n",
              "      <th>3</th>\n",
              "      <td>1</td>\n",
              "    </tr>\n",
              "  </tbody>\n",
              "</table>\n",
              "</div>"
            ],
            "text/plain": [
              "   y\n",
              "0  0\n",
              "1  1\n",
              "2  1\n",
              "3  1"
            ]
          },
          "metadata": {
            "tags": []
          },
          "execution_count": 98
        }
      ]
    },
    {
      "cell_type": "code",
      "metadata": {
        "colab": {
          "base_uri": "https://localhost:8080/"
        },
        "id": "bsmfV1OAbsOA",
        "outputId": "5f408625-756e-4d45-a230-c2b501ba37af"
      },
      "source": [
        "model.fit(X,y)"
      ],
      "execution_count": 99,
      "outputs": [
        {
          "output_type": "stream",
          "text": [
            "[[ 0.  0. -1.]\n",
            " [ 0.  1. -1.]\n",
            " [ 1.  0. -1.]\n",
            " [ 1.  1. -1.]]\n",
            "[0 0 0 1]\n",
            "updated weight \n",
            "[ 0.20031269  0.19891075 -0.09898739]\n",
            "----------\n",
            "[1 1 1 1]\n",
            "updated weight \n",
            "[0.20031269 0.19891075 0.00101261]\n",
            "----------\n",
            "[0 1 1 1]\n",
            "updated weight \n",
            "[0.20031269 0.19891075 0.00101261]\n",
            "----------\n",
            "[0 1 1 1]\n",
            "updated weight \n",
            "[0.20031269 0.19891075 0.00101261]\n",
            "----------\n",
            "[0 1 1 1]\n",
            "updated weight \n",
            "[0.20031269 0.19891075 0.00101261]\n",
            "----------\n",
            "[0 1 1 1]\n",
            "updated weight \n",
            "[0.20031269 0.19891075 0.00101261]\n",
            "----------\n",
            "[0 1 1 1]\n",
            "updated weight \n",
            "[0.20031269 0.19891075 0.00101261]\n",
            "----------\n",
            "[0 1 1 1]\n",
            "updated weight \n",
            "[0.20031269 0.19891075 0.00101261]\n",
            "----------\n",
            "[0 1 1 1]\n",
            "updated weight \n",
            "[0.20031269 0.19891075 0.00101261]\n",
            "----------\n",
            "[0 1 1 1]\n",
            "updated weight \n",
            "[0.20031269 0.19891075 0.00101261]\n",
            "----------\n"
          ],
          "name": "stdout"
        }
      ]
    },
    {
      "cell_type": "code",
      "metadata": {
        "colab": {
          "base_uri": "https://localhost:8080/"
        },
        "id": "7ojGBY9Rc7jg",
        "outputId": "17aed753-7c5d-4758-853f-6209789cfbf1"
      },
      "source": [
        "model.predict(X,y)"
      ],
      "execution_count": 100,
      "outputs": [
        {
          "output_type": "execute_result",
          "data": {
            "text/plain": [
              "array([0, 1, 1, 1])"
            ]
          },
          "metadata": {
            "tags": []
          },
          "execution_count": 100
        }
      ]
    },
    {
      "cell_type": "code",
      "metadata": {
        "colab": {
          "base_uri": "https://localhost:8080/",
          "height": 326
        },
        "id": "zkvkzrG6dBNO",
        "outputId": "72f19d3b-92a0-4cdb-9d63-7999d6afc141"
      },
      "source": [
        "OR.plot(kind=\"scatter\",x=\"x1\",y=\"x2\",c=\"y\",s=100,cmap=\"winter\")\n",
        "plt.axhline(y=0,color='black',linestyle=\"--\",linewidth=2)\n",
        "plt.axvline(x=0,color='black',linestyle=\"--\",linewidth=2)\n",
        "x=np.linspace(0,1)\n",
        "y=0.75-np.linspace(0,1)*1\n",
        "plt.plot(x,y,\"r--\")"
      ],
      "execution_count": 112,
      "outputs": [
        {
          "output_type": "execute_result",
          "data": {
            "text/plain": [
              "[<matplotlib.lines.Line2D at 0x7f789f860cd0>]"
            ]
          },
          "metadata": {
            "tags": []
          },
          "execution_count": 112
        },
        {
          "output_type": "display_data",
          "data": {
            "image/png": "[encoded data removed]",
            "text/plain": [
              "<Figure size 432x288 with 2 Axes>"
            ]
          },
          "metadata": {
            "tags": []
          }
        }
      ]
    },
    {
      "cell_type": "markdown",
      "metadata": {
        "id": "cuPVKILXcrX4"
      },
      "source": [
        "#XOR\n"
      ]
    },
    {
      "cell_type": "code",
      "metadata": {
        "colab": {
          "base_uri": "https://localhost:8080/",
          "height": 173
        },
        "id": "Iz8rNuI1bzaR",
        "outputId": "102f0c3e-e1e8-4385-8c3d-dc0887e37a1c"
      },
      "source": [
        "data = {\"x1\": [0,0,1,1], \"x2\": [0,1,0,1], \"y\": [0,1,1,0]}\n",
        "\n",
        "XOR = pd.DataFrame(data)\n",
        "XOR"
      ],
      "execution_count": 113,
      "outputs": [
        {
          "output_type": "execute_result",
          "data": {
            "text/html": [
              "<div>\n",
              "<style scoped>\n",
              "    .dataframe tbody tr th:only-of-type {\n",
              "        vertical-align: middle;\n",
              "    }\n",
              "\n",
              "    .dataframe tbody tr th {\n",
              "        vertical-align: top;\n",
              "    }\n",
              "\n",
              "    .dataframe thead th {\n",
              "        text-align: right;\n",
              "    }\n",
              "</style>\n",
              "<table border=\"1\" class=\"dataframe\">\n",
              "  <thead>\n",
              "    <tr style=\"text-align: right;\">\n",
              "      <th></th>\n",
              "      <th>x1</th>\n",
              "      <th>x2</th>\n",
              "      <th>y</th>\n",
              "    </tr>\n",
              "  </thead>\n",
              "  <tbody>\n",
              "    <tr>\n",
              "      <th>0</th>\n",
              "      <td>0</td>\n",
              "      <td>0</td>\n",
              "      <td>0</td>\n",
              "    </tr>\n",
              "    <tr>\n",
              "      <th>1</th>\n",
              "      <td>0</td>\n",
              "      <td>1</td>\n",
              "      <td>1</td>\n",
              "    </tr>\n",
              "    <tr>\n",
              "      <th>2</th>\n",
              "      <td>1</td>\n",
              "      <td>0</td>\n",
              "      <td>1</td>\n",
              "    </tr>\n",
              "    <tr>\n",
              "      <th>3</th>\n",
              "      <td>1</td>\n",
              "      <td>1</td>\n",
              "      <td>0</td>\n",
              "    </tr>\n",
              "  </tbody>\n",
              "</table>\n",
              "</div>"
            ],
            "text/plain": [
              "   x1  x2  y\n",
              "0   0   0  0\n",
              "1   0   1  1\n",
              "2   1   0  1\n",
              "3   1   1  0"
            ]
          },
          "metadata": {
            "tags": []
          },
          "execution_count": 113
        }
      ]
    },
    {
      "cell_type": "code",
      "metadata": {
        "colab": {
          "base_uri": "https://localhost:8080/",
          "height": 173
        },
        "id": "zpcg0pTmeu9-",
        "outputId": "b60e11c1-39d6-4d0a-f7c6-4069c6242951"
      },
      "source": [
        "X=XOR.drop('y',axis=1)\n",
        "X"
      ],
      "execution_count": 114,
      "outputs": [
        {
          "output_type": "execute_result",
          "data": {
            "text/html": [
              "<div>\n",
              "<style scoped>\n",
              "    .dataframe tbody tr th:only-of-type {\n",
              "        vertical-align: middle;\n",
              "    }\n",
              "\n",
              "    .dataframe tbody tr th {\n",
              "        vertical-align: top;\n",
              "    }\n",
              "\n",
              "    .dataframe thead th {\n",
              "        text-align: right;\n",
              "    }\n",
              "</style>\n",
              "<table border=\"1\" class=\"dataframe\">\n",
              "  <thead>\n",
              "    <tr style=\"text-align: right;\">\n",
              "      <th></th>\n",
              "      <th>x1</th>\n",
              "      <th>x2</th>\n",
              "    </tr>\n",
              "  </thead>\n",
              "  <tbody>\n",
              "    <tr>\n",
              "      <th>0</th>\n",
              "      <td>0</td>\n",
              "      <td>0</td>\n",
              "    </tr>\n",
              "    <tr>\n",
              "      <th>1</th>\n",
              "      <td>0</td>\n",
              "      <td>1</td>\n",
              "    </tr>\n",
              "    <tr>\n",
              "      <th>2</th>\n",
              "      <td>1</td>\n",
              "      <td>0</td>\n",
              "    </tr>\n",
              "    <tr>\n",
              "      <th>3</th>\n",
              "      <td>1</td>\n",
              "      <td>1</td>\n",
              "    </tr>\n",
              "  </tbody>\n",
              "</table>\n",
              "</div>"
            ],
            "text/plain": [
              "   x1  x2\n",
              "0   0   0\n",
              "1   0   1\n",
              "2   1   0\n",
              "3   1   1"
            ]
          },
          "metadata": {
            "tags": []
          },
          "execution_count": 114
        }
      ]
    },
    {
      "cell_type": "code",
      "metadata": {
        "colab": {
          "base_uri": "https://localhost:8080/",
          "height": 173
        },
        "id": "6D8q3cVcezxV",
        "outputId": "25774543-e04d-4702-94da-9cf800e17bd5"
      },
      "source": [
        "y=XOR['y']\n",
        "y.to_frame()"
      ],
      "execution_count": 116,
      "outputs": [
        {
          "output_type": "execute_result",
          "data": {
            "text/html": [
              "<div>\n",
              "<style scoped>\n",
              "    .dataframe tbody tr th:only-of-type {\n",
              "        vertical-align: middle;\n",
              "    }\n",
              "\n",
              "    .dataframe tbody tr th {\n",
              "        vertical-align: top;\n",
              "    }\n",
              "\n",
              "    .dataframe thead th {\n",
              "        text-align: right;\n",
              "    }\n",
              "</style>\n",
              "<table border=\"1\" class=\"dataframe\">\n",
              "  <thead>\n",
              "    <tr style=\"text-align: right;\">\n",
              "      <th></th>\n",
              "      <th>y</th>\n",
              "    </tr>\n",
              "  </thead>\n",
              "  <tbody>\n",
              "    <tr>\n",
              "      <th>0</th>\n",
              "      <td>0</td>\n",
              "    </tr>\n",
              "    <tr>\n",
              "      <th>1</th>\n",
              "      <td>1</td>\n",
              "    </tr>\n",
              "    <tr>\n",
              "      <th>2</th>\n",
              "      <td>1</td>\n",
              "    </tr>\n",
              "    <tr>\n",
              "      <th>3</th>\n",
              "      <td>0</td>\n",
              "    </tr>\n",
              "  </tbody>\n",
              "</table>\n",
              "</div>"
            ],
            "text/plain": [
              "   y\n",
              "0  0\n",
              "1  1\n",
              "2  1\n",
              "3  0"
            ]
          },
          "metadata": {
            "tags": []
          },
          "execution_count": 116
        }
      ]
    },
    {
      "cell_type": "code",
      "metadata": {
        "colab": {
          "base_uri": "https://localhost:8080/"
        },
        "id": "Lp_7w5bPe2sA",
        "outputId": "0240d25e-2897-4bf0-886f-10d67a1e880d"
      },
      "source": [
        "model.fit(X,y)"
      ],
      "execution_count": 117,
      "outputs": [
        {
          "output_type": "stream",
          "text": [
            "[[ 0.  0. -1.]\n",
            " [ 0.  1. -1.]\n",
            " [ 1.  0. -1.]\n",
            " [ 1.  1. -1.]]\n",
            "[0 1 1 1]\n",
            "updated weight \n",
            "[0.10031269 0.09891075 0.10101261]\n",
            "----------\n",
            "[0 0 0 1]\n",
            "updated weight \n",
            "[0.10031269 0.09891075 0.00101261]\n",
            "----------\n",
            "[0 1 1 1]\n",
            "updated weight \n",
            "[ 0.00031269 -0.00108925  0.10101261]\n",
            "----------\n",
            "[0 0 0 0]\n",
            "updated weight \n",
            "[ 0.10031269  0.09891075 -0.09898739]\n",
            "----------\n",
            "[1 1 1 1]\n",
            "updated weight \n",
            "[ 0.00031269 -0.00108925  0.10101261]\n",
            "----------\n",
            "[0 0 0 0]\n",
            "updated weight \n",
            "[ 0.10031269  0.09891075 -0.09898739]\n",
            "----------\n",
            "[1 1 1 1]\n",
            "updated weight \n",
            "[ 0.00031269 -0.00108925  0.10101261]\n",
            "----------\n",
            "[0 0 0 0]\n",
            "updated weight \n",
            "[ 0.10031269  0.09891075 -0.09898739]\n",
            "----------\n",
            "[1 1 1 1]\n",
            "updated weight \n",
            "[ 0.00031269 -0.00108925  0.10101261]\n",
            "----------\n",
            "[0 0 0 0]\n",
            "updated weight \n",
            "[ 0.10031269  0.09891075 -0.09898739]\n",
            "----------\n"
          ],
          "name": "stdout"
        }
      ]
    },
    {
      "cell_type": "markdown",
      "metadata": {
        "id": "rOEn-5d-hlWI"
      },
      "source": [
        "As we can see model is not able to perform well in XOR because it's not linearly separable so that's y we move from simple perceptron to MLP and complex activation function which can help in separating in non linear dataset"
      ]
    },
    {
      "cell_type": "code",
      "metadata": {
        "colab": {
          "base_uri": "https://localhost:8080/",
          "height": 326
        },
        "id": "vyzxY_LUe959",
        "outputId": "c548f3b7-6b97-443c-cfdb-d7b3cac0eb31"
      },
      "source": [
        "XOR.plot(kind=\"scatter\",x=\"x1\",y=\"x2\",c=\"y\",s=100,cmap=\"winter\")\n",
        "plt.axhline(y=0,color='black',linestyle=\"--\",linewidth=2)\n",
        "plt.axvline(x=0,color='black',linestyle=\"--\",linewidth=2)\n"
      ],
      "execution_count": 118,
      "outputs": [
        {
          "output_type": "execute_result",
          "data": {
            "text/plain": [
              "<matplotlib.lines.Line2D at 0x7f789f8b6710>"
            ]
          },
          "metadata": {
            "tags": []
          },
          "execution_count": 118
        },
        {
          "output_type": "display_data",
          "data": {
            "image/png": "[encoded data removed]",
            "text/plain": [
              "<Figure size 432x288 with 2 Axes>"
            ]
          },
          "metadata": {
            "tags": []
          }
        }
      ]
    },
    {
      "cell_type": "code",
      "metadata": {
        "id": "YjsFJTmcf2vc"
      },
      "source": [
        ""
      ],
      "execution_count": null,
      "outputs": []
    }
  ]
}